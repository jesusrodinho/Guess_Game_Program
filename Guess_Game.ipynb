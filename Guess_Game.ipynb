{
  "nbformat": 4,
  "nbformat_minor": 0,
  "metadata": {
    "colab": {
      "provenance": [],
      "authorship_tag": "ABX9TyOH6u3lMSXIe65slgGkmdA/",
      "include_colab_link": true
    },
    "kernelspec": {
      "name": "python3",
      "display_name": "Python 3"
    },
    "language_info": {
      "name": "python"
    }
  },
  "cells": [
    {
      "cell_type": "markdown",
      "metadata": {
        "id": "view-in-github",
        "colab_type": "text"
      },
      "source": [
        "<a href=\"https://colab.research.google.com/github/jesusrodinho/Guess_Game_Program/blob/main/Guess_Game.ipynb\" target=\"_parent\"><img src=\"https://colab.research.google.com/assets/colab-badge.svg\" alt=\"Open In Colab\"/></a>"
      ]
    },
    {
      "cell_type": "code",
      "execution_count": 24,
      "metadata": {
        "colab": {
          "base_uri": "https://localhost:8080/"
        },
        "id": "NIdKshpitA0B",
        "outputId": "3036b8a1-5ee8-4831-fd45-1c5bf3771688"
      },
      "outputs": [
        {
          "name": "stdout",
          "output_type": "stream",
          "text": [
            "2 3 2 \n",
            "1 2 1 \n",
            "2 * B \n",
            "¿Qué número crees que fue escondido?: 2\n",
            "¡Ganaste! El número escondido era 2\n",
            "¿Quieres jugar denuevo? (s/n): n\n"
          ]
        }
      ],
      "source": [
        "import random\n",
        "import time\n",
        "from IPython.display import clear_output\n",
        "def generate_board(size, options):\n",
        "  board = []\n",
        "  for i in range(size):\n",
        "    temp_row = []\n",
        "    for j in range(size):\n",
        "      temp_row.append(random.choice(options))\n",
        "    board.append(temp_row)\n",
        "  return board\n",
        "\n",
        "def show_board(board):\n",
        "  for row in board:\n",
        "    for element in row:\n",
        "      print(element, end = ' ')\n",
        "    print()\n",
        "def hide_value(board):\n",
        "  max = len(board)-1\n",
        "  row = random.randint(0, max)\n",
        "  column = random.randint(0, max)\n",
        "  secret_value = board[row][column]\n",
        "  board[row][column] = \"*\"\n",
        "  return secret_value, board\n",
        "\n",
        "def play_game(size, options):\n",
        "  board = generate_board(size, options)\n",
        "  show_board(board)\n",
        "  print()\n",
        "  time.sleep(3)\n",
        "  clear_output(wait=True)\n",
        "  secret_value, board = hide_value(board)\n",
        "  show_board(board)\n",
        "\n",
        "  escondido = input(\"¿Qué número crees que fue escondido?: \")\n",
        "\n",
        "  if escondido == secret_value:\n",
        "      print(\"¡Ganaste!, Felicitaciones por completar el juego.\")\n",
        "  else:\n",
        "      print(\"Perdiste. El número escondido era\", secret_value)\n",
        "\n",
        "\n",
        "def main():\n",
        "    print(\"Bienvenido\")\n",
        "    size = 3\n",
        "    options = ['A', 'B', 'C', '1', '2', '3']\n",
        "    play_game(size, options)\n",
        "\n",
        "    while True:\n",
        "        play_again = input(\"¿Quieres jugar denuevo? (s/n): \").lower()\n",
        "        if play_again != 's':\n",
        "            break\n",
        "        play_game(size, options)\n",
        "\n",
        "if __name__ == '__main__':\n",
        "    main()"
      ]
    }
  ]
}